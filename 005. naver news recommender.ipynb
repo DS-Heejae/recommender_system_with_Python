{
 "cells": [
  {
   "cell_type": "code",
   "execution_count": 89,
   "metadata": {},
   "outputs": [],
   "source": [
    "import pandas as pd\n",
    "import numpy as np\n",
    "import matplotlib.pyplot as plt\n",
    "from sklearn.manifold import TSNE\n",
    "from gensim.test.utils import common_texts\n",
    "from gensim.models.doc2vec import Doc2Vec, TaggedDocument\n",
    "from sklearn.metrics.pairwise import cosine_similarity\n",
    "\n",
    "from collections import namedtuple"
   ]
  },
  {
   "cell_type": "code",
   "execution_count": 41,
   "metadata": {},
   "outputs": [],
   "source": [
    "def get_data(preprocess = True):\n",
    "    if preprocess :\n",
    "        data = pd.read_csv('./datas/naver_news/preprocessing_tok_naver_data.csv')\n",
    "    else:\n",
    "        economy = pd.read_csv('./datas/naver_news/economy.csv', header=None)\n",
    "        policy = pd.read_csv('./datas/naver_news/policy.csv', header=None)\n",
    "        it = pd.read_csv('./datas/naver_news/it.csv', header=None)\n",
    "\n",
    "        columns = ['date', 'category', 'company', 'title', 'content', 'url']\n",
    "        economy.columns = columns\n",
    "        policy.columns = columns\n",
    "        it.columns = columns\n",
    "\n",
    "        data = pd.concat([economy, policy, it], axis = 0)\n",
    "        data.reset_index(drop=True, inplace=True)\n",
    "    \n",
    "    return data"
   ]
  },
  {
   "cell_type": "code",
   "execution_count": 42,
   "metadata": {},
   "outputs": [],
   "source": [
    "def get_preprocessing_data(data):\n",
    "    data.drop(['date', 'company', 'url'], axis = 1, inplace =True)\n",
    "    \n",
    "    category_mapping = {\n",
    "    '경제' : 0,\n",
    "    '정치' : 1,\n",
    "    'IT과학' : 2\n",
    "    }\n",
    "\n",
    "    data['category'] = data['category'].map(category_mapping)\n",
    "    data['title_content'] = data['title'] + \" \" + data['content']\n",
    "    data.drop(['title', 'content'], axis = 1, inplace = True)\n",
    "    return data"
   ]
  },
  {
   "cell_type": "code",
   "execution_count": 79,
   "metadata": {},
   "outputs": [],
   "source": [
    "def make_doc2vec_data(data, column, t_document=False):\n",
    "    data_doc = []\n",
    "    for tag, doc in zip(data.index, data[column]):\n",
    "        doc = doc.split(\" \")\n",
    "        data_doc.append(([tag], doc))\n",
    "    if t_document:\n",
    "        data = [TaggedDocument(words=text, tags=tag) for tag, text in data_doc]\n",
    "        return data\n",
    "    return data_doc"
   ]
  },
  {
   "cell_type": "code",
   "execution_count": 44,
   "metadata": {},
   "outputs": [],
   "source": [
    "def training_doc2vec(data):\n",
    "    model = Doc2Vec(data, vector_size=128, window=7, epochs=80, min_count=0, workers=4)\n",
    "    return model"
   ]
  },
  {
   "cell_type": "code",
   "execution_count": 91,
   "metadata": {},
   "outputs": [],
   "source": [
    "def get_recommened_contents(user, data_doc, model):\n",
    "    scores = []\n",
    "\n",
    "    for tags, text in data_doc:\n",
    "        trained_doc_vec = model.docvecs[tags[0]]\n",
    "        scores.append(cosine_similarity(user.reshape(-1, 128), trained_doc_vec.reshape(-1, 128)))\n",
    "\n",
    "    scores = np.array(scores).reshape(-1)\n",
    "    scores = np.argsort(-scores)[:10]\n",
    "    \n",
    "    return data.iloc[scores, :]"
   ]
  },
  {
   "cell_type": "code",
   "execution_count": 59,
   "metadata": {},
   "outputs": [],
   "source": [
    "def make_user_embedding(index_list, data_doc, model):\n",
    "    user = []\n",
    "    user_embedding = []\n",
    "    for i in index_list:\n",
    "        user.append(data_doc[i][0][0])\n",
    "    for i in user:\n",
    "        user_embedding.append(model.docvecs[i])\n",
    "    user_embedding = np.array(user_embedding)\n",
    "    user = np.mean(user_embedding, axis = 0)\n",
    "    return user"
   ]
  },
  {
   "cell_type": "code",
   "execution_count": 45,
   "metadata": {},
   "outputs": [],
   "source": [
    "data = get_data()"
   ]
  },
  {
   "cell_type": "code",
   "execution_count": 46,
   "metadata": {},
   "outputs": [
    {
     "data": {
      "text/html": [
       "<div>\n",
       "<style scoped>\n",
       "    .dataframe tbody tr th:only-of-type {\n",
       "        vertical-align: middle;\n",
       "    }\n",
       "\n",
       "    .dataframe tbody tr th {\n",
       "        vertical-align: top;\n",
       "    }\n",
       "\n",
       "    .dataframe thead th {\n",
       "        text-align: right;\n",
       "    }\n",
       "</style>\n",
       "<table border=\"1\" class=\"dataframe\">\n",
       "  <thead>\n",
       "    <tr style=\"text-align: right;\">\n",
       "      <th></th>\n",
       "      <th>category</th>\n",
       "      <th>title_content</th>\n",
       "      <th>mecab_tok</th>\n",
       "    </tr>\n",
       "  </thead>\n",
       "  <tbody>\n",
       "    <tr>\n",
       "      <th>0</th>\n",
       "      <td>0</td>\n",
       "      <td>포스코ICT 4분기부터 실적 본격 개선 비용효율화 본격화 그룹 계열사와의 시너지 발...</td>\n",
       "      <td>포스코 ICT 분기 실 본격 개선 비용 효율 본격화 그룹 계열사 시너지 발생 헤럴드...</td>\n",
       "    </tr>\n",
       "    <tr>\n",
       "      <th>1</th>\n",
       "      <td>0</td>\n",
       "      <td>위메프 리퍼데이 바자회 수익금 소외계층 지원 위메프가 리퍼데이 바자회 ‘아름다운가게...</td>\n",
       "      <td>위메프 리퍼 데이 바자회 수익금 소외 계층 지원 위메프 리퍼 데이 바자회 가게 위메...</td>\n",
       "    </tr>\n",
       "    <tr>\n",
       "      <th>2</th>\n",
       "      <td>0</td>\n",
       "      <td>호반건설 광주시 ‘계림1구역 정비사업’ 수주…공사비 2700억원 최고 33층 총 9...</td>\n",
       "      <td>호반건설 광주시 계림 구역 정비 사업 수주 공사비 원 최고 개동 아파트 가구 규모 ...</td>\n",
       "    </tr>\n",
       "    <tr>\n",
       "      <th>3</th>\n",
       "      <td>0</td>\n",
       "      <td>성동조선해양 HSG중공업과 인수합병 MOU 체결 HSG중공업이 성동조선해양 인수를 ...</td>\n",
       "      <td>성동 조선 해양 중공업 인수 합병 체결 중공업 성동 조선 해양 인수 위한 양해 각서...</td>\n",
       "    </tr>\n",
       "    <tr>\n",
       "      <th>4</th>\n",
       "      <td>0</td>\n",
       "      <td>2019년 10월 프랜차이즈 정보공개서 79개 신규등록 서울·경기·인천 지역 서울시...</td>\n",
       "      <td>년 월 프랜차이즈 정보 공개 개 신규 등록 서울 경기 인천 지역 서울시 경기도 새롭...</td>\n",
       "    </tr>\n",
       "  </tbody>\n",
       "</table>\n",
       "</div>"
      ],
      "text/plain": [
       "   category                                      title_content  \\\n",
       "0         0  포스코ICT 4분기부터 실적 본격 개선 비용효율화 본격화 그룹 계열사와의 시너지 발...   \n",
       "1         0  위메프 리퍼데이 바자회 수익금 소외계층 지원 위메프가 리퍼데이 바자회 ‘아름다운가게...   \n",
       "2         0  호반건설 광주시 ‘계림1구역 정비사업’ 수주…공사비 2700억원 최고 33층 총 9...   \n",
       "3         0  성동조선해양 HSG중공업과 인수합병 MOU 체결 HSG중공업이 성동조선해양 인수를 ...   \n",
       "4         0  2019년 10월 프랜차이즈 정보공개서 79개 신규등록 서울·경기·인천 지역 서울시...   \n",
       "\n",
       "                                           mecab_tok  \n",
       "0  포스코 ICT 분기 실 본격 개선 비용 효율 본격화 그룹 계열사 시너지 발생 헤럴드...  \n",
       "1  위메프 리퍼 데이 바자회 수익금 소외 계층 지원 위메프 리퍼 데이 바자회 가게 위메...  \n",
       "2  호반건설 광주시 계림 구역 정비 사업 수주 공사비 원 최고 개동 아파트 가구 규모 ...  \n",
       "3  성동 조선 해양 중공업 인수 합병 체결 중공업 성동 조선 해양 인수 위한 양해 각서...  \n",
       "4  년 월 프랜차이즈 정보 공개 개 신규 등록 서울 경기 인천 지역 서울시 경기도 새롭...  "
      ]
     },
     "execution_count": 46,
     "metadata": {},
     "output_type": "execute_result"
    }
   ],
   "source": [
    "data.head()"
   ]
  },
  {
   "cell_type": "code",
   "execution_count": 80,
   "metadata": {},
   "outputs": [],
   "source": [
    "data_doc_title_content_tag = make_doc2vec_data(data, 'title_content', t_document=True)\n",
    "data_doc_title_content = make_doc2vec_data(data, 'title_content')\n",
    "data_doc_tok_tag = make_doc2vec_data(data, 'mecab_tok', t_document=True)\n",
    "data_doc_tok = make_doc2vec_data(data, 'mecab_tok')"
   ]
  },
  {
   "cell_type": "code",
   "execution_count": null,
   "metadata": {},
   "outputs": [],
   "source": []
  },
  {
   "cell_type": "code",
   "execution_count": null,
   "metadata": {},
   "outputs": [],
   "source": []
  },
  {
   "cell_type": "code",
   "execution_count": null,
   "metadata": {},
   "outputs": [],
   "source": []
  },
  {
   "cell_type": "code",
   "execution_count": 81,
   "metadata": {},
   "outputs": [],
   "source": [
    "#title_content_doc2vec_model = training_doc2vec(data_doc_title_content)"
   ]
  },
  {
   "cell_type": "code",
   "execution_count": 82,
   "metadata": {},
   "outputs": [],
   "source": [
    "#tok_doc2vec_model = training_doc2vec(data_doc_tok)"
   ]
  },
  {
   "cell_type": "code",
   "execution_count": 83,
   "metadata": {},
   "outputs": [],
   "source": [
    "#title_content_doc2vec_model.save('./title_content_doc2vec_model.doc2vec')\n",
    "#tok_doc2vec_model.save('./data_doc_tok.doc2vec')\n"
   ]
  },
  {
   "cell_type": "code",
   "execution_count": 87,
   "metadata": {},
   "outputs": [],
   "source": [
    "user_1 = make_user_embedding([20, 21, 24, 29, 45, 82], data_doc_title_content, title_content_doc2vec_model) # 카테고리 0"
   ]
  },
  {
   "cell_type": "code",
   "execution_count": 93,
   "metadata": {},
   "outputs": [
    {
     "data": {
      "text/html": [
       "<div>\n",
       "<style scoped>\n",
       "    .dataframe tbody tr th:only-of-type {\n",
       "        vertical-align: middle;\n",
       "    }\n",
       "\n",
       "    .dataframe tbody tr th {\n",
       "        vertical-align: top;\n",
       "    }\n",
       "\n",
       "    .dataframe thead th {\n",
       "        text-align: right;\n",
       "    }\n",
       "</style>\n",
       "<table border=\"1\" class=\"dataframe\">\n",
       "  <thead>\n",
       "    <tr style=\"text-align: right;\">\n",
       "      <th></th>\n",
       "      <th>title_content</th>\n",
       "    </tr>\n",
       "  </thead>\n",
       "  <tbody>\n",
       "    <tr>\n",
       "      <th>21</th>\n",
       "      <td>자막뉴스 11월 수출 1년 전보다 14.3%↓ 지난달 우리나라 수출액은 441억 달...</td>\n",
       "    </tr>\n",
       "    <tr>\n",
       "      <th>5639</th>\n",
       "      <td>KT 호텔 객실용품 배달하는 AI 호텔 로봇 KT가 국내 최초 AI 호텔인 노보텔 ...</td>\n",
       "    </tr>\n",
       "    <tr>\n",
       "      <th>13348</th>\n",
       "      <td>KT 호텔 객실용품 배달하는 AI 호텔 로봇 상용화 KT가 국내 최초 AI 호텔인 ...</td>\n",
       "    </tr>\n",
       "    <tr>\n",
       "      <th>13375</th>\n",
       "      <td>KT 전국 스키장에서도 5G 서비스 즐기세요 KT가 본격적인 겨울 스키 시즌을 맞아...</td>\n",
       "    </tr>\n",
       "    <tr>\n",
       "      <th>5441</th>\n",
       "      <td>수출 12개월째 내리막…‘부진의 늪’ 언제 탈출 앵커 지난달 수출액이 또다시 줄어들...</td>\n",
       "    </tr>\n",
       "    <tr>\n",
       "      <th>13347</th>\n",
       "      <td>KT 호텔 객실용품 배달하는 AI 호텔 로봇 KT가 국내 최초 AI 호텔인 노보텔 ...</td>\n",
       "    </tr>\n",
       "    <tr>\n",
       "      <th>3948</th>\n",
       "      <td>수출 12개월째 내리막…‘부진의 늪’ 언제 탈출 앵커 지난달 수출액이 또다시 줄어들...</td>\n",
       "    </tr>\n",
       "    <tr>\n",
       "      <th>4005</th>\n",
       "      <td>이마트 미리 준비하는 크리스마스 서울 연합뉴스 류효림 기자 2일 서울 용산구 한강로...</td>\n",
       "    </tr>\n",
       "    <tr>\n",
       "      <th>17170</th>\n",
       "      <td>SKTMS 게임으로 코딩 교육 서울 뉴스1 민경석 기자 SK텔레콤이 마이크로소프트와...</td>\n",
       "    </tr>\n",
       "    <tr>\n",
       "      <th>780</th>\n",
       "      <td>스테이크 원하는 두께로 썰어드려요 서울 뉴스1 구윤성 기자 1일 서울 이마트 용산점...</td>\n",
       "    </tr>\n",
       "  </tbody>\n",
       "</table>\n",
       "</div>"
      ],
      "text/plain": [
       "                                           title_content\n",
       "21     자막뉴스 11월 수출 1년 전보다 14.3%↓ 지난달 우리나라 수출액은 441억 달...\n",
       "5639   KT 호텔 객실용품 배달하는 AI 호텔 로봇 KT가 국내 최초 AI 호텔인 노보텔 ...\n",
       "13348  KT 호텔 객실용품 배달하는 AI 호텔 로봇 상용화 KT가 국내 최초 AI 호텔인 ...\n",
       "13375  KT 전국 스키장에서도 5G 서비스 즐기세요 KT가 본격적인 겨울 스키 시즌을 맞아...\n",
       "5441   수출 12개월째 내리막…‘부진의 늪’ 언제 탈출 앵커 지난달 수출액이 또다시 줄어들...\n",
       "13347  KT 호텔 객실용품 배달하는 AI 호텔 로봇 KT가 국내 최초 AI 호텔인 노보텔 ...\n",
       "3948   수출 12개월째 내리막…‘부진의 늪’ 언제 탈출 앵커 지난달 수출액이 또다시 줄어들...\n",
       "4005   이마트 미리 준비하는 크리스마스 서울 연합뉴스 류효림 기자 2일 서울 용산구 한강로...\n",
       "17170  SKTMS 게임으로 코딩 교육 서울 뉴스1 민경석 기자 SK텔레콤이 마이크로소프트와...\n",
       "780    스테이크 원하는 두께로 썰어드려요 서울 뉴스1 구윤성 기자 1일 서울 이마트 용산점..."
      ]
     },
     "execution_count": 93,
     "metadata": {},
     "output_type": "execute_result"
    }
   ],
   "source": [
    "result = get_recommened_contents(user_1, data_doc_title_content, title_content_doc2vec_model)\n",
    "pd.DataFrame(result.title_content)"
   ]
  },
  {
   "cell_type": "code",
   "execution_count": 96,
   "metadata": {},
   "outputs": [
    {
     "data": {
      "text/html": [
       "<div>\n",
       "<style scoped>\n",
       "    .dataframe tbody tr th:only-of-type {\n",
       "        vertical-align: middle;\n",
       "    }\n",
       "\n",
       "    .dataframe tbody tr th {\n",
       "        vertical-align: top;\n",
       "    }\n",
       "\n",
       "    .dataframe thead th {\n",
       "        text-align: right;\n",
       "    }\n",
       "</style>\n",
       "<table border=\"1\" class=\"dataframe\">\n",
       "  <thead>\n",
       "    <tr style=\"text-align: right;\">\n",
       "      <th></th>\n",
       "      <th>category</th>\n",
       "      <th>title_content</th>\n",
       "      <th>mecab_tok</th>\n",
       "    </tr>\n",
       "  </thead>\n",
       "  <tbody>\n",
       "    <tr>\n",
       "      <th>20</th>\n",
       "      <td>0</td>\n",
       "      <td>기업 78% 국회 경제입법 활동 낙제 수준 국내 기업들이 20대 국회가 거둔 경제입...</td>\n",
       "      <td>기업 국회 경제 입법 활동 낙제 수준 국내 기업 대 국회 거둔 경제 입법 사회 갈등...</td>\n",
       "    </tr>\n",
       "    <tr>\n",
       "      <th>21</th>\n",
       "      <td>0</td>\n",
       "      <td>자막뉴스 11월 수출 1년 전보다 14.3%↓ 지난달 우리나라 수출액은 441억 달...</td>\n",
       "      <td>자막 뉴스 월 수출 년 전 지난달 우리나라 수출액 달러 지난해 개월 내리막 해 수출...</td>\n",
       "    </tr>\n",
       "    <tr>\n",
       "      <th>24</th>\n",
       "      <td>0</td>\n",
       "      <td>맞벌이 부부는 한 명에 카드 사용 집중해야 유리 금융감독원은 신용카드 소득공제에서 ...</td>\n",
       "      <td>맞벌이 부부 명 카드 사용 집중 해야 유리 금융감독원 신용카드 소득 공제 맞벌이 부...</td>\n",
       "    </tr>\n",
       "    <tr>\n",
       "      <th>29</th>\n",
       "      <td>0</td>\n",
       "      <td>SK 중국 투자사와 1조원 펀드 조성...미래 먹거리 발굴 집중 SK그룹이 중국 최...</td>\n",
       "      <td>SK 중국 투자 사 원 펀드 조성 미래 먹거리 발굴 집중 그룹 중국 최대 글로벌 투...</td>\n",
       "    </tr>\n",
       "    <tr>\n",
       "      <th>45</th>\n",
       "      <td>0</td>\n",
       "      <td>수출 12개월째 내리막…‘부진의 늪’ 언제 탈출 앵커 지난달 수출액이 지난해 같은 ...</td>\n",
       "      <td>수출 개월 내리막 부진 늪 언제 탈출 앵커 지난달 수출액 지난해 같 기간 또 다시 ...</td>\n",
       "    </tr>\n",
       "    <tr>\n",
       "      <th>82</th>\n",
       "      <td>0</td>\n",
       "      <td>박영선 중기부 장관 프랑스 경제인 면담 서울 연합뉴스 박영선 중소벤처기업부 장관이 ...</td>\n",
       "      <td>박영선 중기부 장관 프랑스 경제 면담 서울 연합뉴스 박영선 중소 벤처 기업 장관 지...</td>\n",
       "    </tr>\n",
       "  </tbody>\n",
       "</table>\n",
       "</div>"
      ],
      "text/plain": [
       "    category                                      title_content  \\\n",
       "20         0  기업 78% 국회 경제입법 활동 낙제 수준 국내 기업들이 20대 국회가 거둔 경제입...   \n",
       "21         0  자막뉴스 11월 수출 1년 전보다 14.3%↓ 지난달 우리나라 수출액은 441억 달...   \n",
       "24         0  맞벌이 부부는 한 명에 카드 사용 집중해야 유리 금융감독원은 신용카드 소득공제에서 ...   \n",
       "29         0  SK 중국 투자사와 1조원 펀드 조성...미래 먹거리 발굴 집중 SK그룹이 중국 최...   \n",
       "45         0  수출 12개월째 내리막…‘부진의 늪’ 언제 탈출 앵커 지난달 수출액이 지난해 같은 ...   \n",
       "82         0  박영선 중기부 장관 프랑스 경제인 면담 서울 연합뉴스 박영선 중소벤처기업부 장관이 ...   \n",
       "\n",
       "                                            mecab_tok  \n",
       "20  기업 국회 경제 입법 활동 낙제 수준 국내 기업 대 국회 거둔 경제 입법 사회 갈등...  \n",
       "21  자막 뉴스 월 수출 년 전 지난달 우리나라 수출액 달러 지난해 개월 내리막 해 수출...  \n",
       "24  맞벌이 부부 명 카드 사용 집중 해야 유리 금융감독원 신용카드 소득 공제 맞벌이 부...  \n",
       "29  SK 중국 투자 사 원 펀드 조성 미래 먹거리 발굴 집중 그룹 중국 최대 글로벌 투...  \n",
       "45  수출 개월 내리막 부진 늪 언제 탈출 앵커 지난달 수출액 지난해 같 기간 또 다시 ...  \n",
       "82  박영선 중기부 장관 프랑스 경제 면담 서울 연합뉴스 박영선 중소 벤처 기업 장관 지...  "
      ]
     },
     "execution_count": 96,
     "metadata": {},
     "output_type": "execute_result"
    }
   ],
   "source": [
    "data.loc[[20, 21, 24, 29, 45, 82], :]"
   ]
  },
  {
   "cell_type": "code",
   "execution_count": null,
   "metadata": {},
   "outputs": [],
   "source": []
  }
 ],
 "metadata": {
  "kernelspec": {
   "display_name": "Python 3",
   "language": "python",
   "name": "python3"
  },
  "language_info": {
   "codemirror_mode": {
    "name": "ipython",
    "version": 3
   },
   "file_extension": ".py",
   "mimetype": "text/x-python",
   "name": "python",
   "nbconvert_exporter": "python",
   "pygments_lexer": "ipython3",
   "version": "3.6.9"
  }
 },
 "nbformat": 4,
 "nbformat_minor": 2
}
